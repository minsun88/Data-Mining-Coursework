{
  "nbformat": 4,
  "nbformat_minor": 0,
  "metadata": {
    "colab": {
      "name": "submit.ipynb",
      "version": "0.3.2",
      "provenance": [],
      "collapsed_sections": [],
      "include_colab_link": true
    }
  },
  "cells": [
    {
      "cell_type": "markdown",
      "metadata": {
        "id": "view-in-github",
        "colab_type": "text"
      },
      "source": [
        "[View in Colaboratory](https://colab.research.google.com/github/ikinsella/AdvML-Fall-18/blob/master/python_tutorial/submit.ipynb)"
      ]
    },
    {
      "metadata": {
        "id": "2QmKqfkTJ-Wp",
        "colab_type": "text"
      },
      "cell_type": "markdown",
      "source": [
        "##GR5242 Homework Submission Instructions\n",
        "\n",
        "Homework completed in jupyter notebooks (.ipynb files) **must** be submitted in .html format.  .ipynb, .pdf, .zip, and other formats are **not** acceptable and will receive a grade of 0. \n",
        "\n",
        "This notebook provides submission instructions and some helpful routines to submit properly. "
      ]
    },
    {
      "metadata": {
        "id": "ZSD1bFDtJ9oR",
        "colab_type": "text"
      },
      "cell_type": "markdown",
      "source": [
        "## Step 1: Download completed notebook from Google Drive to local machine\n"
      ]
    },
    {
      "metadata": {
        "id": "sRXx55u_Qnan",
        "colab_type": "text"
      },
      "cell_type": "markdown",
      "source": [
        "In your browser, download the **completed** homework notebook from Google Drive.  Place it on your local machine desktop (or similar). \n",
        "\n",
        "**Important: if you make any changes to the notebook after this step, you will need to start the process over again to be sure that change is in your submission**.\n",
        "\n",
        "![Step 1: download from Drive](https://stat.columbia.edu/~cunningham/teaching/misc/submit_step1.png)"
      ]
    },
    {
      "metadata": {
        "id": "M_yI4-TeKpPq",
        "colab_type": "text"
      },
      "cell_type": "markdown",
      "source": [
        "## Step 2: Upload completed notebook from local machine to colab machine instance"
      ]
    },
    {
      "metadata": {
        "id": "_L2hhNlLRzi4",
        "colab_type": "text"
      },
      "cell_type": "markdown",
      "source": [
        "**Execute the following cell (run it in this notebook!)**\n",
        "\n",
        "Then click \"Choose files\", and choose the notebook you just downloaded to your desktop."
      ]
    },
    {
      "metadata": {
        "id": "seqpqe8sK015",
        "colab_type": "code",
        "colab": {}
      },
      "cell_type": "code",
      "source": [
        "from google.colab import files\n",
        "\n",
        "uploaded = files.upload()\n",
        "\n",
        "for filename in uploaded.keys():\n",
        "  print('Your notebook file \"{name}\" has been uploaded to the colab machine instance'.format(\n",
        "      name=filename))"
      ],
      "execution_count": 0,
      "outputs": []
    },
    {
      "metadata": {
        "id": "IU5LdczfS48E",
        "colab_type": "text"
      },
      "cell_type": "markdown",
      "source": [
        "(The above cell should have completed the upload, and it will print \"Your notebook file... colab machine instance.\")"
      ]
    },
    {
      "metadata": {
        "id": "-GAUUSjxK1HH",
        "colab_type": "text"
      },
      "cell_type": "markdown",
      "source": [
        "## Step 3: Convert .ipnyb to .html on colab machine instance"
      ]
    },
    {
      "metadata": {
        "id": "BOGDg9XFLK6T",
        "colab_type": "text"
      },
      "cell_type": "markdown",
      "source": [
        "**Execute the following cell (run it in this notebook!)**"
      ]
    },
    {
      "metadata": {
        "id": "OfwdWjQWLQHZ",
        "colab_type": "code",
        "colab": {}
      },
      "cell_type": "code",
      "source": [
        "!jupyter nbconvert --to html *.ipynb"
      ],
      "execution_count": 0,
      "outputs": []
    },
    {
      "metadata": {
        "id": "Od6rlaUpPhz6",
        "colab_type": "text"
      },
      "cell_type": "markdown",
      "source": [
        "## Step 4: Download .html from colab machine instance to local machine"
      ]
    },
    {
      "metadata": {
        "id": "xtJFGj8kUClI",
        "colab_type": "text"
      },
      "cell_type": "markdown",
      "source": [
        "**Execute the following cell (run it in thiis notebook!)**\n",
        "\n",
        "Then download the .html file back to the Desktop on your local machine"
      ]
    },
    {
      "metadata": {
        "id": "UZPtGWzTPoPx",
        "colab_type": "code",
        "colab": {}
      },
      "cell_type": "code",
      "source": [
        "files.download(filename[:-5]+'html')"
      ],
      "execution_count": 0,
      "outputs": []
    },
    {
      "metadata": {
        "id": "IbVM4ARlUPxu",
        "colab_type": "text"
      },
      "cell_type": "markdown",
      "source": [
        "## Step 5: Check your .html file and submit on courseworks\n",
        "\n",
        "**Important: open the .html file on your desktop to ensure that it has your completed assignment.  It should look like the notebook, but in .html format**\n",
        "\n",
        "Navigate on a browser to http://courseworks2.columbia.edu, log in, and submit your homework .html file."
      ]
    }
  ]
}